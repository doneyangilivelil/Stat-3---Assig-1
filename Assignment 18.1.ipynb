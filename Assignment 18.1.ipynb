{
 "cells": [
  {
   "cell_type": "markdown",
   "metadata": {},
   "source": [
    "Blood glucose levels for obese patients have a mean of 100 with a standard deviation of 15. A researcher \n",
    "thinks that a diet high in raw cornstarch will have a positive effect on\n",
    "blood glucose levels. A sample of 36 patients who have tried the raw cornstarch diet\n",
    "have a mean glucose level of 108. Test the hypothesis that the raw cornstarch had an\n",
    "effect or not."
   ]
  },
  {
   "cell_type": "code",
   "execution_count": null,
   "metadata": {},
   "outputs": [],
   "source": [
    "It is a one-tail test to check the positive effect on blood glucose levels\n",
    "H0 : U>=100  (To have positive effect in glucose level the mean should be greater than or equal to 100)\n",
    "H1:  U< 100  (Cornstarch has negative effect on blood glucose level)\n",
    "\n",
    "Given:\n",
    "    (Population mean)U=100\n",
    "    (Population stdev)sigma=15\n",
    "    Sample size=36\n",
    "    Sample mean=108\n",
    "    \n",
    "At 95% confidence interval\n",
    "Zstat=(X-u)/[sigma/sqrt(n)]\n",
    "Zstat=3.2\n",
    "Zcritical for 5% confidence interval is less than 3.2\n",
    "Hence Zstat is not in 'critical region' and hence we fail to reject the null hypothesis.\n",
    "This emphasis that there is positive impact on glucose level by cornstarch based on sample data"
   ]
  }
 ],
 "metadata": {
  "kernelspec": {
   "display_name": "Python 3",
   "language": "python",
   "name": "python3"
  },
  "language_info": {
   "codemirror_mode": {
    "name": "ipython",
    "version": 3
   },
   "file_extension": ".py",
   "mimetype": "text/x-python",
   "name": "python",
   "nbconvert_exporter": "python",
   "pygments_lexer": "ipython3",
   "version": "3.6.4"
  }
 },
 "nbformat": 4,
 "nbformat_minor": 2
}
